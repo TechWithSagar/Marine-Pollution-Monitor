{
 "cells": [
  {
   "cell_type": "code",
   "execution_count": null,
   "metadata": {
    "id": "b637a31d-e3bb-4f4d-84e1-74f580701d8f"
   },
   "outputs": [
    {
     "name": "stdout",
     "output_type": "stream",
     "text": [
      "Environment variables set successfully.\n",
      "Data successfully loaded into a DataFrame.\n",
      "\n",
      "Model training complete.\n",
      "Model successfully stored in Watson Machine Learning repository.\n"
     ]
    }
   ],
   "source": [
    "import os\n",
    "import pandas as pd\n",
    "import ibm_boto3\n",
    "from ibm_botocore.client import Config\n",
    "import types\n",
    "import joblib\n",
    "from project_lib import Project\n",
    "from sklearn.model_selection import train_test_split\n",
    "from sklearn.ensemble import RandomForestClassifier\n",
    "from sklearn.metrics import accuracy_score, classification_report\n",
    "from ibm_watson_machine_learning import APIClient\n",
    "from dotenv import load_dotenv\n",
    "\n",
    "load_dotenv()\n",
    "\n",
    "COS_API_KEY_ID = os.getenv('COS_API_KEY_ID')\n",
    "COS_SERVICE_INSTANCE_ID = os.getenv('COS_SERVICE_INSTANCE_ID')\n",
    "BUCKET_NAME = os.getenv('BUCKET_NAME')\n",
    "WML_API_KEY = os.getenv('WML_API_KEY')\n",
    "\n",
    "print(\"Environment variables set successfully.\")\n",
    "\n",
    "COS_API_KEY_ID = os.environ.get(\"COS_API_KEY_ID\")\n",
    "COS_SERVICE_INSTANCE_ID = os.environ.get(\"COS_SERVICE_INSTANCE_ID\")\n",
    "BUCKET_NAME = os.environ.get(\"BUCKET_NAME\")\n",
    "COS_ENDPOINT = \"https://s3.us-south.cloud-object-storage.appdomain.cloud\"\n",
    "\n",
    "Cloud_Object_Storage_rx_client = ibm_boto3.client(\n",
    "    service_name='s3',\n",
    "    ibm_api_key_id=COS_API_KEY_ID,\n",
    "    ibm_service_instance_id=COS_SERVICE_INSTANCE_ID,\n",
    "    ibm_auth_endpoint='https://iam.cloud.ibm.com/identity/token',\n",
    "    config=Config(signature_version='oauth'),\n",
    "    endpoint_url=COS_ENDPOINT\n",
    ")\n",
    "\n",
    "bucket = BUCKET_NAME\n",
    "object_key = 'raw_water_potability_data.csv'\n",
    "\n",
    "def __iter__(self): return 0\n",
    "\n",
    "body = Cloud_Object_Storage_rx_client.get_object(Bucket=bucket, Key=object_key)['Body']\n",
    "if not hasattr(body, \"__iter__\"): body.__iter__ = types.MethodType( __iter__, body )\n",
    "df = pd.read_csv(body)\n",
    "\n",
    "print(\"Data successfully loaded into a DataFrame.\")\n",
    "\n",
    "df_cleaned = df.dropna()\n",
    "X = df_cleaned.drop('Potability', axis=1)\n",
    "y = df_cleaned['Potability']\n",
    "X_train, X_test, y_train, y_test = train_test_split(X, y, test_size=0.2, random_state=42)\n",
    "model = RandomForestClassifier(n_estimators=100, random_state=42)\n",
    "model.fit(X_train, y_train)\n",
    "\n",
    "print(\"\\nModel training complete.\")\n",
    "\n",
    "wml_credentials = {\n",
    "    \"apikey\": os.environ.get(\"WML_API_KEY\"),\n",
    "    \"url\": \"https://us-south.ml.cloud.ibm.com\"\n",
    "}\n",
    "wml_client = APIClient(wml_credentials)\n",
    "space_id = \"da932741-b9f8-4c68-af1e-87f86660310a\"\n",
    "wml_client.set.default_space(space_id)\n",
    "\n",
    "software_spec_name = 'runtime-24.1-py3.11'\n",
    "software_spec_uid = wml_client.software_specifications.get_uid_by_name(software_spec_name)\n",
    "\n",
    "model_props = {\n",
    "    wml_client.repository.ModelMetaNames.NAME: 'Water Potability Random Forest Model',\n",
    "    wml_client.repository.ModelMetaNames.TYPE: 'scikit-learn_1.3', # Correcting the model type\n",
    "    wml_client.repository.ModelMetaNames.SOFTWARE_SPEC_UID: software_spec_uid\n",
    "}\n",
    "\n",
    "published_model = wml_client.repository.store_model(\n",
    "    model=model,\n",
    "    meta_props=model_props\n",
    ")\n",
    "\n",
    "print(\"Model successfully stored in Watson Machine Learning repository.\")"
   ]
  },
  {
   "cell_type": "code",
   "execution_count": null,
   "metadata": {
    "id": "09840b12-49ab-4f8e-980e-23fe7ff4c0ec"
   },
   "outputs": [
    {
     "data": {
      "image/png": "[encoded data removed]",
      "text/plain": [
       "<Figure size 800x600 with 2 Axes>"
      ]
     },
     "metadata": {},
     "output_type": "display_data"
    },
    {
     "name": "stdout",
     "output_type": "stream",
     "text": [
      "\n",
      "Classification Report:\n",
      "              precision    recall  f1-score   support\n",
      "\n",
      " Non-Potable       0.65      0.84      0.73       231\n",
      "     Potable       0.65      0.40      0.50       172\n",
      "\n",
      "    accuracy                           0.65       403\n",
      "   macro avg       0.65      0.62      0.62       403\n",
      "weighted avg       0.65      0.65      0.63       403\n",
      "\n"
     ]
    }
   ],
   "source": [
    "from sklearn.metrics import confusion_matrix\n",
    "from sklearn.metrics import classification_report\n",
    "import matplotlib.pyplot as plt\n",
    "import seaborn as sns\n",
    "\n",
    "\n",
    "y_pred = model.predict(X_test)\n",
    "\n",
    "cm = confusion_matrix(y_test, y_pred)\n",
    "\n",
    "plt.figure(figsize=(8, 6))\n",
    "sns.heatmap(cm, annot=True, fmt='d', cmap='Blues',\n",
    "            xticklabels=['Non-Potable', 'Potable'],\n",
    "            yticklabels=['Non-Potable', 'Potable'])\n",
    "plt.xlabel('Predicted')\n",
    "plt.ylabel('Actual')\n",
    "plt.title('Confusion Matrix')\n",
    "plt.show()\n",
    "\n",
    "y_pred = model.predict(X_test)\n",
    "\n",
    "print(\"\\nClassification Report:\")\n",
    "print(classification_report(y_test, y_pred, target_names=['Non-Potable', 'Potable']))"
   ]
  },
  {
   "cell_type": "code",
   "execution_count": null,
   "metadata": {
    "id": "acac6fd5-e6a6-4280-bb30-c241195f6e42"
   },
   "outputs": [],
   "source": []
  }
 ],
 "metadata": {
  "kernelspec": {
   "display_name": "Python 3.11",
   "language": "python",
   "name": "python3"
  },
  "language_info": {
   "codemirror_mode": {
    "name": "ipython",
    "version": 3
   },
   "file_extension": ".py",
   "mimetype": "text/x-python",
   "name": "python",
   "nbconvert_exporter": "python",
   "pygments_lexer": "ipython3",
   "version": "3.11.13"
  }
 },
 "nbformat": 4,
 "nbformat_minor": 4
}
